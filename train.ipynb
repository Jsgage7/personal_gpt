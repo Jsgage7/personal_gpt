{
 "cells": [
  {
   "cell_type": "code",
   "execution_count": 8,
   "metadata": {},
   "outputs": [
    {
     "name": "stdout",
     "output_type": "stream",
     "text": [
      "cuda:0\n"
     ]
    }
   ],
   "source": [
    "import torch\n",
    "device = torch.device(\"cuda:0\" if torch.cuda.is_available() else \"cpu\")\n",
    "print(device)\n",
    "block_size = 8\n",
    "batch_size = 4"
   ]
  },
  {
   "cell_type": "code",
   "execution_count": 4,
   "metadata": {},
   "outputs": [
    {
     "name": "stdout",
     "output_type": "stream",
     "text": [
      "202711\n"
     ]
    }
   ],
   "source": [
    "with open('text/crimeandpunishment.txt', encoding=\"utf8\") as f:\n",
    "    text = f.read()\n",
    "    words = text.split()\n",
    "    print(len(words))\n",
    "chars = sorted(set(text))"
   ]
  },
  {
   "cell_type": "code",
   "execution_count": 6,
   "metadata": {},
   "outputs": [
    {
     "name": "stdout",
     "output_type": "stream",
     "text": [
      "tensor([91, 22, 37, 28, 32, 24,  1, 20, 33, 23,  1, 35, 40, 33, 28, 38, 27, 32,\n",
      "        24, 33, 39,  0,  0,  0,  0,  0, 35, 20, 37, 39,  1, 28,  0,  0,  0,  0,\n",
      "        22, 27, 20, 35, 39, 24, 37,  1, 28,  0,  0, 34, 62,  1, 49, 62,  1, 53,\n",
      "        72, 51, 53, 64, 68, 57, 63, 62, 49, 60, 60, 73,  1, 56, 63, 68,  1, 53,\n",
      "        70, 53, 62, 57, 62, 55,  1, 53, 49, 66, 60, 73,  1, 57, 62,  1, 29, 69,\n",
      "        60, 73,  1, 49,  1, 73, 63, 69, 62, 55])\n"
     ]
    }
   ],
   "source": [
    "# character encoding/decoding\n",
    "chars_to_ints = {c: i for i, c in enumerate(chars)}\n",
    "ints_to_chars = {i: c for i, c in enumerate(chars)}\n",
    "encoder = lambda s: [chars_to_ints[c] for c in s]\n",
    "decoder = lambda l: ''.join([ints_to_chars[i] for i in l])\n",
    "\n",
    "data = torch.tensor(encoder(text), dtype=torch.long)\n",
    "print(data[:100])\n"
   ]
  },
  {
   "cell_type": "code",
   "execution_count": null,
   "metadata": {},
   "outputs": [],
   "source": [
    "n = "
   ]
  }
 ],
 "metadata": {
  "kernelspec": {
   "display_name": "cuda",
   "language": "python",
   "name": "python3"
  },
  "language_info": {
   "codemirror_mode": {
    "name": "ipython",
    "version": 3
   },
   "file_extension": ".py",
   "mimetype": "text/x-python",
   "name": "python",
   "nbconvert_exporter": "python",
   "pygments_lexer": "ipython3",
   "version": "3.10.11"
  }
 },
 "nbformat": 4,
 "nbformat_minor": 2
}
